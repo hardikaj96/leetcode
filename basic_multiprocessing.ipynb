{
 "cells": [
  {
   "cell_type": "code",
   "execution_count": 13,
   "metadata": {},
   "outputs": [],
   "source": [
    "import pandas as pd\n",
    "import re\n",
    "import os\n",
    "from multiprocessing import Pool, Process, Queue, cpu_count"
   ]
  },
  {
   "cell_type": "code",
   "execution_count": 2,
   "metadata": {},
   "outputs": [],
   "source": [
    "import xml.etree.ElementTree as ET"
   ]
  },
  {
   "cell_type": "code",
   "execution_count": 5,
   "metadata": {},
   "outputs": [],
   "source": [
    "\n",
    "def get_file_lists(path):\n",
    "    file_list=[]\n",
    "    for dire in os.listdir(path):\n",
    "        directory = os.path.join(path, dire)\n",
    "        if os.path.isdir(directory):\n",
    "            for file in os.listdir(directory):\n",
    "                if not file.endswith('.xml'): continue\n",
    "                full = os.path.join(directory, file)\n",
    "                file_list.append(full)\n",
    "        if not directory.endswith('.xml'): continue\n",
    "        fullname = os.path.join(path, directory)\n",
    "        file_list.append(fullname)\n",
    "    return file_list"
   ]
  },
  {
   "cell_type": "code",
   "execution_count": 10,
   "metadata": {},
   "outputs": [],
   "source": [
    "def parse_file(filename):\n",
    "    tree = ET.parse(filename)\n",
    "    a={}\n",
    "#     for elem in tree.iter():\n",
    "#         if elem.text:\n",
    "#             elem.text = elem.text.replace(\"\\n\",\"\").strip()\n",
    "#             re.sub(' +',' ',elem.text)\n",
    "#             if elem.text:\n",
    "#     a[elem.tag]=elem.text\n",
    "    for elem in tree.iter():\n",
    "    if elem.tag == 'download_date':\n",
    "        a[elem.tag] = elem.text\n",
    "        break\n",
    "    return a"
   ]
  },
  {
   "cell_type": "code",
   "execution_count": 12,
   "metadata": {},
   "outputs": [],
   "source": [
    "def process_files(filelist,q):\n",
    "    results=[]\n",
    "    try:\n",
    "        for file in filelist:\n",
    "            results.append(parse_file(file))\n",
    "    except:\n",
    "        q.put([])\n",
    "        raise\n",
    "    q.put(results)\n"
   ]
  },
  {
   "cell_type": "code",
   "execution_count": 17,
   "metadata": {},
   "outputs": [],
   "source": [
    "def parallelize_parsing(file_list):\n",
    "\n",
    "    cpu_cores = cpu_count()\n",
    "    q = Queue()\n",
    "    procs = []\n",
    "\n",
    "    # Split the input file list into sublists according to the number\n",
    "    # of the available CPU cores\n",
    "    for i in range(0, cpu_cores):\n",
    "        sub_list = [file_list[j] for j in range(0, len(file_list)) if j % cpu_cores == i]\n",
    "\n",
    "        if len(sub_list) > 0:\n",
    "            p = Process(target=process_files, args=([sub_list, q]))\n",
    "            p.start()\n",
    "            procs.append(p)\n",
    "\n",
    "    # Collect the results\n",
    "    all_results = []\n",
    "    for i in range(0, len(procs)):\n",
    "        all_results.append(q.get())\n",
    "    return all_results"
   ]
  },
  {
   "cell_type": "code",
   "execution_count": 19,
   "metadata": {},
   "outputs": [
    {
     "data": {
      "text/plain": [
       "[['email': 'irene_richard@urmc.rochester.edu'}]]"
      ]
     },
     "execution_count": 19,
     "metadata": {},
     "output_type": "execute_result"
    }
   ],
   "source": [
    "files = get_file_lists('ct/')\n",
    "parallelize_parsing(files)"
   ]
  },
  {
   "cell_type": "code",
   "execution_count": null,
   "metadata": {},
   "outputs": [],
   "source": []
  }
 ],
 "metadata": {
  "kernelspec": {
   "display_name": "Python 3",
   "language": "python",
   "name": "python3"
  },
  "language_info": {
   "codemirror_mode": {
    "name": "ipython",
    "version": 3
   },
   "file_extension": ".py",
   "mimetype": "text/x-python",
   "name": "python",
   "nbconvert_exporter": "python",
   "pygments_lexer": "ipython3",
   "version": "3.6.7"
  }
 },
 "nbformat": 4,
 "nbformat_minor": 2
}
